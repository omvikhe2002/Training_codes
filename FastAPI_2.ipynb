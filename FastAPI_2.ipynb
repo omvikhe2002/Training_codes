{
 "cells": [
  {
   "cell_type": "code",
   "execution_count": 7,
   "id": "93d59e8c-145d-4f72-b4bc-154fc5e26a44",
   "metadata": {},
   "outputs": [],
   "source": [
    "from fastapi import FastAPI\n",
    "\n",
    "app=FastAPI()"
   ]
  },
  {
   "cell_type": "markdown",
   "id": "6d95b586-76f4-4707-80e8-30e9cc90bfc7",
   "metadata": {},
   "source": [
    "this is how we import fastapi"
   ]
  },
  {
   "cell_type": "code",
   "execution_count": 10,
   "id": "26988419-a516-4362-b29f-486fcbe6c8d3",
   "metadata": {},
   "outputs": [],
   "source": [
    "@app.get('/')\n",
    "async def read_results():\n",
    "    \n",
    "    results=await some()\n",
    "    return results"
   ]
  },
  {
   "cell_type": "markdown",
   "id": "27996f0d-63a9-4f42-b249-c02dadc2bf97",
   "metadata": {},
   "source": [
    "1) async def : by declaring fun with async we can pause and resume the function\n",
    "2) await: await is used to pause the execution of async function"
   ]
  },
  {
   "cell_type": "code",
   "execution_count": 11,
   "id": "97efa847-baef-42bb-b409-cc6b5c8de751",
   "metadata": {},
   "outputs": [],
   "source": [
    "import nest_asyncio\n",
    "import uvicorn"
   ]
  },
  {
   "cell_type": "markdown",
   "id": "f8e854ea-b3ec-4b28-a430-1688f1f52fd3",
   "metadata": {},
   "source": [
    "we need this to run the code"
   ]
  },
  {
   "cell_type": "code",
   "execution_count": 12,
   "id": "5a087917-dc37-4c2d-8665-59924c77552e",
   "metadata": {},
   "outputs": [],
   "source": [
    "nest_asyncio.apply()"
   ]
  },
  {
   "cell_type": "markdown",
   "id": "5455b267-a97e-4d5a-9211-854fa98fa82e",
   "metadata": {},
   "source": [
    "we need to apply this patch"
   ]
  },
  {
   "cell_type": "code",
   "execution_count": null,
   "id": "10d898c0-dc11-499a-bd5f-b674ddcaea3c",
   "metadata": {},
   "outputs": [],
   "source": [
    "@app.get('/')\n",
    "async def read_results():\n",
    "    async def some():\n",
    "        return {\"message\":\"hello, world\"}\n",
    "    \n",
    "    results=await some()\n",
    "    return results"
   ]
  },
  {
   "cell_type": "code",
   "execution_count": null,
   "id": "64e6d6d1-1f52-4d93-954c-7ab7f510fb02",
   "metadata": {},
   "outputs": [],
   "source": []
  },
  {
   "cell_type": "code",
   "execution_count": null,
   "id": "55948def-acf1-4b0b-b83f-f62738c75887",
   "metadata": {},
   "outputs": [],
   "source": []
  }
 ],
 "metadata": {
  "kernelspec": {
   "display_name": "Python 3 (ipykernel)",
   "language": "python",
   "name": "python3"
  },
  "language_info": {
   "codemirror_mode": {
    "name": "ipython",
    "version": 3
   },
   "file_extension": ".py",
   "mimetype": "text/x-python",
   "name": "python",
   "nbconvert_exporter": "python",
   "pygments_lexer": "ipython3",
   "version": "3.12.6"
  }
 },
 "nbformat": 4,
 "nbformat_minor": 5
}
