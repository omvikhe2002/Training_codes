{
 "cells": [
  {
   "cell_type": "markdown",
   "id": "ec271178-c9b4-465d-bf12-2d2f2bbb1e97",
   "metadata": {},
   "source": [
    "1. CLASSES AND OBJECTS"
   ]
  },
  {
   "cell_type": "code",
   "execution_count": 2,
   "id": "1beb2c92-2086-456a-a65e-ee209b765980",
   "metadata": {},
   "outputs": [
    {
     "name": "stdout",
     "output_type": "stream",
     "text": [
      "<__main__.Student object at 0x00000269F42C42C0>\n"
     ]
    }
   ],
   "source": [
    "class Student:\n",
    "    name=\"Om\"\n",
    "\n",
    "s1=Student()\n",
    "print(s1)"
   ]
  },
  {
   "cell_type": "code",
   "execution_count": 3,
   "id": "51ce1590-c71f-4429-8b5f-3fee9cf16c71",
   "metadata": {},
   "outputs": [
    {
     "name": "stdout",
     "output_type": "stream",
     "text": [
      "Om\n"
     ]
    }
   ],
   "source": [
    "print(s1.name)"
   ]
  },
  {
   "cell_type": "code",
   "execution_count": 4,
   "id": "0d69e002-c7af-4864-a3d1-fab964fb5944",
   "metadata": {},
   "outputs": [
    {
     "name": "stdout",
     "output_type": "stream",
     "text": [
      "black\n",
      "BMW\n"
     ]
    }
   ],
   "source": [
    "class car:\n",
    "    color=\"black\"\n",
    "    model=\"BMW\"\n",
    "\n",
    "c1=car()\n",
    "print(c1.color)\n",
    "print(c1.model)"
   ]
  },
  {
   "cell_type": "code",
   "execution_count": 5,
   "id": "4df80d13-adfe-43a3-8cdf-a06f3159de7c",
   "metadata": {},
   "outputs": [
    {
     "name": "stdout",
     "output_type": "stream",
     "text": [
      "black\n",
      "BMW\n"
     ]
    }
   ],
   "source": [
    "print(car.color)\n",
    "print(car.model)"
   ]
  },
  {
   "cell_type": "markdown",
   "id": "37bddae6-2fb2-4524-b79c-a28bc2a427c5",
   "metadata": {},
   "source": [
    "CONSTRUCTOR (__init__)"
   ]
  },
  {
   "cell_type": "code",
   "execution_count": 4,
   "id": "f80d3e3c-68a3-4e54-9c4c-549c2851a628",
   "metadata": {},
   "outputs": [
    {
     "name": "stdout",
     "output_type": "stream",
     "text": [
      "Dog Lab\n"
     ]
    }
   ],
   "source": [
    "class animal:\n",
    "    def __init__ (self,name,breed):\n",
    "        self.name=name\n",
    "        self.breed=breed\n",
    "        print(self.name,self.breed)\n",
    "\n",
    "dog=animal(\"Dog\",\"Lab\")"
   ]
  },
  {
   "cell_type": "markdown",
   "id": "b939c791-3f27-4a0f-9ba0-bb22047a992c",
   "metadata": {},
   "source": [
    "Decorators"
   ]
  },
  {
   "cell_type": "code",
   "execution_count": 2,
   "id": "db845228-d245-4127-93f0-1949be740837",
   "metadata": {},
   "outputs": [
    {
     "name": "stdout",
     "output_type": "stream",
     "text": [
      "Hello World\n",
      "Good Morning\n",
      "4\n"
     ]
    }
   ],
   "source": [
    "def greet(fx):\n",
    "    def fun():\n",
    "        print(\"Hello World\")\n",
    "        print(\"Good Morning\")\n",
    "        fx()\n",
    "    return fun\n",
    "@greet\n",
    "def add():\n",
    "    print(1+3)\n",
    "add()\n"
   ]
  },
  {
   "cell_type": "code",
   "execution_count": 3,
   "id": "1d604032-0bc3-420c-bed3-2e70f91aac71",
   "metadata": {},
   "outputs": [
    {
     "name": "stdout",
     "output_type": "stream",
     "text": [
      "Hello Om\n",
      "Good Morning\n"
     ]
    }
   ],
   "source": [
    "def dec(func):\n",
    "    def my_fun():\n",
    "        print(\"Hello Om\")\n",
    "        func()\n",
    "    return my_fun\n",
    "\n",
    "@dec\n",
    "def greet():\n",
    "    print(\"Good Morning\")\n",
    "greet()\n"
   ]
  },
  {
   "cell_type": "code",
   "execution_count": 6,
   "id": "01464c55-73d4-4005-a73b-bfab1313eb9b",
   "metadata": {},
   "outputs": [
    {
     "name": "stdout",
     "output_type": "stream",
     "text": [
      "Hi Om\n",
      "Hi Om\n",
      "Hi Om\n"
     ]
    }
   ],
   "source": [
    "def repeat(time):\n",
    "    def fun(dec):\n",
    "        def f2(*args,**kwrgs):\n",
    "            for i in range(time):\n",
    "                dec(*args,**kwrgs)\n",
    "        return f2\n",
    "    return fun\n",
    "@repeat(3)\n",
    "def call(name):\n",
    "    print(\"Hi\",name)\n",
    "call(\"Om\")"
   ]
  },
  {
   "cell_type": "code",
   "execution_count": null,
   "id": "a617a967-8488-42ae-9e2f-5251326364ba",
   "metadata": {},
   "outputs": [],
   "source": []
  },
  {
   "cell_type": "markdown",
   "id": "c1a8175c-01aa-45fb-b6f8-006bd449cc9b",
   "metadata": {},
   "source": [
    "Inheritance"
   ]
  },
  {
   "cell_type": "code",
   "execution_count": 6,
   "id": "07127d1b-b8c9-4539-ab2f-e5a6a9af8908",
   "metadata": {},
   "outputs": [
    {
     "name": "stdout",
     "output_type": "stream",
     "text": [
      "Buddy, the Golden Retriever, barks!\n"
     ]
    }
   ],
   "source": [
    "class Animal:\n",
    "    def __init__(self, name):\n",
    "        self.name = name\n",
    "    \n",
    "    def speak(self):\n",
    "        print(f\"{self.name} makes a sound.\")\n",
    "    \n",
    "class Dog(Animal):\n",
    "    def __init__(self, name, breed):\n",
    "        super().__init__(name)\n",
    "        self.breed = breed\n",
    "    \n",
    "    def speak(self):\n",
    "        print(f\"{self.name}, the {self.breed}, barks!\")\n",
    "dog = Dog(\"Buddy\", \"Golden Retriever\")\n",
    "dog.speak()  "
   ]
  },
  {
   "cell_type": "markdown",
   "id": "ddf560eb-a07b-4ef5-88e8-7add2ac94a59",
   "metadata": {},
   "source": [
    "TYPES OF METHOD"
   ]
  },
  {
   "cell_type": "markdown",
   "id": "730f3ac2-b1ff-4fa0-bd42-0aed0a39da02",
   "metadata": {},
   "source": [
    "1) INSTANCE METHOD"
   ]
  },
  {
   "cell_type": "code",
   "execution_count": 8,
   "id": "597cd27d-3d62-4ee0-be9a-6e69725897e8",
   "metadata": {},
   "outputs": [
    {
     "name": "stdout",
     "output_type": "stream",
     "text": [
      "Hello, my name is Om\n"
     ]
    }
   ],
   "source": [
    "class person:\n",
    "    def __init__(self, name):\n",
    "        self.name = name\n",
    "\n",
    "    def greet(self):\n",
    "        print(f\"Hello, my name is {self.name}\")\n",
    "\n",
    "obj = person(\"Om\")\n",
    "obj.greet()"
   ]
  },
  {
   "cell_type": "markdown",
   "id": "60dbe1de-10c9-4d86-a4f0-4974dd108658",
   "metadata": {},
   "source": [
    "2) CLASS"
   ]
  },
  {
   "cell_type": "code",
   "execution_count": 12,
   "id": "b4191417-eede-4aeb-9468-5d423a44fab4",
   "metadata": {},
   "outputs": [
    {
     "name": "stdout",
     "output_type": "stream",
     "text": [
      "Number of instances created: 2\n"
     ]
    }
   ],
   "source": [
    "class person:\n",
    "    count = 0\n",
    "\n",
    "    def __init__(self, name):\n",
    "        self.name = name\n",
    "        person.count += 1\n",
    "\n",
    "    @classmethod\n",
    "    def countt(cls):\n",
    "        print(f\"Number of instances created: {cls.count}\")\n",
    "obj1 = person(\"Alice\")\n",
    "obj2 = person(\"Bob\")\n",
    "person.countt() "
   ]
  },
  {
   "cell_type": "markdown",
   "id": "6fdded7b-583e-4bd0-977f-6b405f051823",
   "metadata": {},
   "source": [
    "3) STATIC"
   ]
  },
  {
   "cell_type": "code",
   "execution_count": 13,
   "id": "681ea20c-b145-4023-af4d-114aae332786",
   "metadata": {},
   "outputs": [
    {
     "name": "stdout",
     "output_type": "stream",
     "text": [
      "8\n"
     ]
    }
   ],
   "source": [
    "class MyClass:  \n",
    "    @staticmethod\n",
    "    def add(x, y):\n",
    "        return x + y\n",
    "result = MyClass.add(5, 3)\n",
    "print(result)"
   ]
  },
  {
   "cell_type": "code",
   "execution_count": null,
   "id": "6dec18ba-5027-4ccf-86c3-dfe455fa784f",
   "metadata": {},
   "outputs": [],
   "source": []
  },
  {
   "cell_type": "code",
   "execution_count": null,
   "id": "fa72f105-e1e2-4422-af05-07b1d9a636fc",
   "metadata": {},
   "outputs": [],
   "source": []
  },
  {
   "cell_type": "code",
   "execution_count": null,
   "id": "3a5eaba4-5308-489f-bf82-e6fd73bc9742",
   "metadata": {},
   "outputs": [],
   "source": []
  }
 ],
 "metadata": {
  "kernelspec": {
   "display_name": "Python 3 (ipykernel)",
   "language": "python",
   "name": "python3"
  },
  "language_info": {
   "codemirror_mode": {
    "name": "ipython",
    "version": 3
   },
   "file_extension": ".py",
   "mimetype": "text/x-python",
   "name": "python",
   "nbconvert_exporter": "python",
   "pygments_lexer": "ipython3",
   "version": "3.12.6"
  }
 },
 "nbformat": 4,
 "nbformat_minor": 5
}
