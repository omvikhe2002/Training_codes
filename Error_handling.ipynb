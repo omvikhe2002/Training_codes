{
 "cells": [
  {
   "cell_type": "code",
   "execution_count": 13,
   "id": "f7110ca9-9d59-4a35-a948-48ea92de0394",
   "metadata": {},
   "outputs": [
    {
     "name": "stdout",
     "output_type": "stream",
     "text": [
      "Multiplication table of: om\n",
      "Invalid input bro\n",
      "Om, welcome to python\n"
     ]
    }
   ],
   "source": [
    "a=\"om\"\n",
    "print(\"Multiplication table of:\",a)\n",
    "try:\n",
    "    for i in range(1,11):\n",
    "        print(int(a*i))\n",
    "except:\n",
    "    print(\"Invalid input bro\")\n",
    "    \n",
    "\n",
    "print(\"Om, welcome to python\")"
   ]
  },
  {
   "cell_type": "code",
   "execution_count": 12,
   "id": "13b468e1-7f9a-448a-bd66-7aa35b56569d",
   "metadata": {},
   "outputs": [
    {
     "name": "stdout",
     "output_type": "stream",
     "text": [
      "Multiplication table of: om\n",
      "invalid literal for int() with base 10: 'om'\n",
      "Om, welcome to python\n"
     ]
    }
   ],
   "source": [
    "a=\"om\"\n",
    "print(\"Multiplication table of:\",a)\n",
    "try:\n",
    "    for i in range(1,11):\n",
    "        print(int(a*i))\n",
    "except Exception as e:\n",
    "    print(e)\n",
    "\n",
    "except ZeroDivisionError as e:\n",
    "    print(e)\n",
    "\n",
    "except TypeError as e:\n",
    "    print(e)\n",
    "\n",
    "print(\"Om, welcome to python\")"
   ]
  },
  {
   "cell_type": "markdown",
   "id": "cc449aa3-6aa7-488b-ad63-0d5910d7b3b9",
   "metadata": {},
   "source": [
    "CUSTOM EXCEPTIONS"
   ]
  },
  {
   "cell_type": "code",
   "execution_count": null,
   "id": "5ce976d1-c9b9-445d-80c0-30c614bd49f8",
   "metadata": {},
   "outputs": [],
   "source": []
  }
 ],
 "metadata": {
  "kernelspec": {
   "display_name": "Python 3 (ipykernel)",
   "language": "python",
   "name": "python3"
  },
  "language_info": {
   "codemirror_mode": {
    "name": "ipython",
    "version": 3
   },
   "file_extension": ".py",
   "mimetype": "text/x-python",
   "name": "python",
   "nbconvert_exporter": "python",
   "pygments_lexer": "ipython3",
   "version": "3.12.6"
  }
 },
 "nbformat": 4,
 "nbformat_minor": 5
}
