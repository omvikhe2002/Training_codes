{
 "cells": [
  {
   "cell_type": "markdown",
   "id": "e6f83289-aad2-4574-8e74-a3c49ae9ceea",
   "metadata": {},
   "source": [
    "1.Import the entire module:"
   ]
  },
  {
   "cell_type": "code",
   "execution_count": 4,
   "id": "a8491225-5f1e-443f-9a2a-f9ffc9b87388",
   "metadata": {},
   "outputs": [
    {
     "name": "stdout",
     "output_type": "stream",
     "text": [
      "5.0\n"
     ]
    }
   ],
   "source": [
    "import math\n",
    "print(math.sqrt(25))"
   ]
  },
  {
   "cell_type": "markdown",
   "id": "ef658bd5-5072-4840-b0b3-40833321da81",
   "metadata": {},
   "source": [
    "2.Import specific functions or variables from a module:"
   ]
  },
  {
   "cell_type": "code",
   "execution_count": 6,
   "id": "bc879c18-8764-41bc-951d-30bfe3689c6d",
   "metadata": {},
   "outputs": [
    {
     "name": "stdout",
     "output_type": "stream",
     "text": [
      "7.0\n"
     ]
    }
   ],
   "source": [
    "from math import sqrt\n",
    "print(sqrt(49))"
   ]
  },
  {
   "cell_type": "markdown",
   "id": "1903ceba-38ae-44f2-8674-c51363489970",
   "metadata": {},
   "source": [
    "3.Alias a module or function for convenience:"
   ]
  },
  {
   "cell_type": "code",
   "execution_count": 7,
   "id": "453a9bc0-1128-4a53-96cd-72e0dc0313b5",
   "metadata": {},
   "outputs": [
    {
     "name": "stdout",
     "output_type": "stream",
     "text": [
      "4.0\n"
     ]
    }
   ],
   "source": [
    "import math as m\n",
    "print(m.sqrt(16))"
   ]
  },
  {
   "cell_type": "markdown",
   "id": "34e0f776-80f6-45c4-83f9-bf22583ecfb9",
   "metadata": {},
   "source": [
    "4.Creating and importing modules"
   ]
  },
  {
   "cell_type": "code",
   "execution_count": 12,
   "id": "477d4522-d46f-4fd3-b1c7-cd41d0d00700",
   "metadata": {},
   "outputs": [
    {
     "name": "stdout",
     "output_type": "stream",
     "text": [
      "sum is: 9\n"
     ]
    }
   ],
   "source": [
    "import om\n",
    "summ=om.add(4,5)\n",
    "print(\"sum is:\",summ)"
   ]
  },
  {
   "cell_type": "code",
   "execution_count": 14,
   "id": "b7c36f68-02b8-4743-8710-422e0b4f2414",
   "metadata": {},
   "outputs": [
    {
     "name": "stdout",
     "output_type": "stream",
     "text": [
      "difference is: 6\n",
      "multiplication is: 20\n"
     ]
    }
   ],
   "source": [
    "difference=om.substract(9,3)\n",
    "print(\"difference is:\",difference)\n",
    "\n",
    "multiplication=om.multiply(4,5)\n",
    "print(\"multiplication is:\",multiplication)"
   ]
  },
  {
   "cell_type": "code",
   "execution_count": 15,
   "id": "572cf13a-e962-4c81-8021-a182ea0a1106",
   "metadata": {},
   "outputs": [
    {
     "name": "stdout",
     "output_type": "stream",
     "text": [
      "12\n"
     ]
    }
   ],
   "source": [
    "from om import add,substract\n",
    "summ=om.add(7,5)\n",
    "print(summ)"
   ]
  },
  {
   "cell_type": "code",
   "execution_count": 16,
   "id": "2a79d341-f86e-4fa9-b1c2-06704e78aa26",
   "metadata": {},
   "outputs": [
    {
     "name": "stdout",
     "output_type": "stream",
     "text": [
      "4\n"
     ]
    }
   ],
   "source": [
    "import om as omi\n",
    "diff=omi.substract(8,4)\n",
    "print(diff)"
   ]
  },
  {
   "cell_type": "markdown",
   "id": "cdcbccf6-dfdf-4d13-bacb-62ab69ca2fac",
   "metadata": {},
   "source": [
    "5. Creating and importing packages"
   ]
  },
  {
   "cell_type": "code",
   "execution_count": 2,
   "id": "d49c6195-2294-48d3-b905-1d8e5a96b51c",
   "metadata": {},
   "outputs": [],
   "source": [
    "from mathematics.basic import add,subtract\n",
    "from mathematics.advance import multiply, divide"
   ]
  },
  {
   "cell_type": "code",
   "execution_count": 3,
   "id": "3632e0f2-8a19-4a65-a4cf-de0c3a28a3c4",
   "metadata": {},
   "outputs": [
    {
     "name": "stdout",
     "output_type": "stream",
     "text": [
      "10\n",
      "2\n",
      "25\n",
      "2.5\n"
     ]
    }
   ],
   "source": [
    "summ=add(5,5)\n",
    "diff=subtract(5,3)\n",
    "pro=multiply(5,5)\n",
    "div=divide(5,2)\n",
    "\n",
    "print(summ)\n",
    "print(diff)\n",
    "print(pro)\n",
    "print(div)"
   ]
  },
  {
   "cell_type": "code",
   "execution_count": null,
   "id": "8f090359-73d6-4074-b905-fe15a161068c",
   "metadata": {},
   "outputs": [],
   "source": []
  }
 ],
 "metadata": {
  "kernelspec": {
   "display_name": "Python 3 (ipykernel)",
   "language": "python",
   "name": "python3"
  },
  "language_info": {
   "codemirror_mode": {
    "name": "ipython",
    "version": 3
   },
   "file_extension": ".py",
   "mimetype": "text/x-python",
   "name": "python",
   "nbconvert_exporter": "python",
   "pygments_lexer": "ipython3",
   "version": "3.12.6"
  }
 },
 "nbformat": 4,
 "nbformat_minor": 5
}
