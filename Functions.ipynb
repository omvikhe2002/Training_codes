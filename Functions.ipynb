{
 "cells": [
  {
   "cell_type": "markdown",
   "id": "ebe30dbd-c1e1-4e8e-a106-4ac0beeafb4e",
   "metadata": {},
   "source": [
    "functions\n",
    "1 calling function"
   ]
  },
  {
   "cell_type": "code",
   "execution_count": 1,
   "id": "c3028a44-f820-4755-bc21-954964264030",
   "metadata": {},
   "outputs": [
    {
     "name": "stdout",
     "output_type": "stream",
     "text": [
      "Hello, welcome to Python programming!\n"
     ]
    }
   ],
   "source": [
    "def greet():\n",
    "    print(\"Hello, welcome to Python programming!\")\n",
    "greet()"
   ]
  },
  {
   "cell_type": "markdown",
   "id": "e0e418fe-e160-49e0-aa61-bd14536349e9",
   "metadata": {},
   "source": [
    "function with arguments"
   ]
  },
  {
   "cell_type": "code",
   "execution_count": 2,
   "id": "16563cfe-8665-4eb1-8daf-5f033165c097",
   "metadata": {},
   "outputs": [
    {
     "name": "stdout",
     "output_type": "stream",
     "text": [
      "Hello, Om!\n",
      "Hello, Sai!\n"
     ]
    }
   ],
   "source": [
    "def greet_person(name):\n",
    "    print(f\"Hello, {name}!\")\n",
    "greet_person(\"Om\")\n",
    "greet_person(\"Sai\")"
   ]
  },
  {
   "cell_type": "markdown",
   "id": "e63bbb93-b042-427e-a16d-89de386814a9",
   "metadata": {},
   "source": [
    "Function with return value"
   ]
  },
  {
   "cell_type": "code",
   "execution_count": 3,
   "id": "1c274a4c-88aa-48bd-a0e7-5934495d24ee",
   "metadata": {},
   "outputs": [
    {
     "name": "stdout",
     "output_type": "stream",
     "text": [
      "The sum is: 12\n"
     ]
    }
   ],
   "source": [
    "def add_numbers(a, b):\n",
    "    return a + b\n",
    "result = add_numbers(5, 7)\n",
    "print(f\"The sum is: {result}\")"
   ]
  },
  {
   "cell_type": "markdown",
   "id": "310e944c-69c3-46f9-b424-40ce276ff056",
   "metadata": {},
   "source": [
    "LOCAL SCOPE\n",
    "A variable defined inside a function is in the local scope and can only be accessed inside that function."
   ]
  },
  {
   "cell_type": "code",
   "execution_count": 2,
   "id": "daa01ea6-7e8a-4022-bc90-b779208b0cb0",
   "metadata": {},
   "outputs": [
    {
     "name": "stdout",
     "output_type": "stream",
     "text": [
      "The local variable is : 10\n"
     ]
    }
   ],
   "source": [
    "def fun():\n",
    "    local_var=10\n",
    "    print(\"The local variable is :\",local_var)\n",
    "fun()"
   ]
  },
  {
   "cell_type": "markdown",
   "id": "182da9fb-af53-4258-85f3-f21349262e2a",
   "metadata": {},
   "source": [
    "Global Scope: \n",
    "A variable defined outside all functions is in the global scope and can be accessed anywhere in the code."
   ]
  },
  {
   "cell_type": "code",
   "execution_count": 3,
   "id": "9c94bfab-87d5-4add-afff-802915898c32",
   "metadata": {},
   "outputs": [
    {
     "name": "stdout",
     "output_type": "stream",
     "text": [
      "Accessing the global variable inside: 20\n",
      "Accessing the global variable outside: 20\n"
     ]
    }
   ],
   "source": [
    "global_variable=20\n",
    "def my_global():\n",
    "    print(\"Accessing the global variable inside:\",global_variable)\n",
    "my_global()\n",
    "print(\"Accessing the global variable outside:\",global_variable)"
   ]
  },
  {
   "cell_type": "markdown",
   "id": "eaeb6301-f397-497f-9e10-5008ffe9457b",
   "metadata": {},
   "source": [
    "Modifying Global Variables Inside Functions:\n",
    "To modify a global variable from within a function, we can use the global keyword."
   ]
  },
  {
   "cell_type": "code",
   "execution_count": 4,
   "id": "883fc12c-7bc2-4b49-aae6-2187623f1997",
   "metadata": {},
   "outputs": [
    {
     "name": "stdout",
     "output_type": "stream",
     "text": [
      "Counter inside the fincton: 1\n",
      "Counter inside the fincton: 2\n",
      "Counter outside the function: 2\n"
     ]
    }
   ],
   "source": [
    "counter=0\n",
    "def mod():\n",
    "    global counter\n",
    "    counter+=1\n",
    "    print(\"Counter inside the fincton:\",counter)\n",
    "mod()\n",
    "mod()\n",
    "print(\"Counter outside the function:\",counter)"
   ]
  },
  {
   "cell_type": "markdown",
   "id": "eef58171-a074-49f3-807e-967a1dbb0e3a",
   "metadata": {},
   "source": [
    "Local vs Global Variable:\n",
    "If a local variable and a global variable have the same name, the local variable will take precedence within the function."
   ]
  },
  {
   "cell_type": "code",
   "execution_count": 5,
   "id": "00025fef-d3ee-45d6-849b-85f819bb5cd8",
   "metadata": {},
   "outputs": [
    {
     "name": "stdout",
     "output_type": "stream",
     "text": [
      "local om is: 10\n",
      "Global om is: 5\n"
     ]
    }
   ],
   "source": [
    "om=5\n",
    "def fun():\n",
    "    om=10\n",
    "    print(\"local om is:\",om)\n",
    "fun()\n",
    "print(\"Global om is:\",om)"
   ]
  },
  {
   "cell_type": "markdown",
   "id": "dd8bb6a7-09fb-4fe3-8957-c52a91bd55de",
   "metadata": {},
   "source": [
    "DEFAULT ARGUMENT"
   ]
  },
  {
   "cell_type": "code",
   "execution_count": 6,
   "id": "727601f0-21e4-4e8e-bef8-5fdf807a9ad1",
   "metadata": {},
   "outputs": [
    {
     "name": "stdout",
     "output_type": "stream",
     "text": [
      "welcome to P99soft: Om\n",
      "welcome to P99soft: Sai\n"
     ]
    }
   ],
   "source": [
    "def greet(name=\"Om\"):\n",
    "    print(\"welcome to P99soft:\",name)\n",
    "greet()\n",
    "greet(\"Sai\")"
   ]
  },
  {
   "cell_type": "markdown",
   "id": "03c36358-0b90-454a-ba11-e7e4e2ffbad6",
   "metadata": {},
   "source": [
    "KEYWORDS ARGUMENTS"
   ]
  },
  {
   "cell_type": "code",
   "execution_count": 8,
   "id": "d9ed42ca-5b15-4111-9f29-77ef4753a36a",
   "metadata": {},
   "outputs": [
    {
     "name": "stdout",
     "output_type": "stream",
     "text": [
      "Hi I am Om my age is 23\n"
     ]
    }
   ],
   "source": [
    "def fun(age,name):\n",
    "    print(\"Hi I am\",name,\"my age is\",age)\n",
    "fun(23,\"Om\")"
   ]
  },
  {
   "cell_type": "markdown",
   "id": "9c532efc-0854-4be8-a987-c59906c6225c",
   "metadata": {},
   "source": [
    "*args and **kwargs"
   ]
  },
  {
   "cell_type": "code",
   "execution_count": 11,
   "id": "dd8f724d-7edc-4831-8977-d7710f13c107",
   "metadata": {},
   "outputs": [
    {
     "name": "stdout",
     "output_type": "stream",
     "text": [
      "1\n",
      "2\n",
      "3\n",
      "4\n"
     ]
    }
   ],
   "source": [
    "def fun(*args):\n",
    "    for num in args:\n",
    "        print(num)\n",
    "fun(1,2,3,4)"
   ]
  },
  {
   "cell_type": "code",
   "execution_count": 12,
   "id": "cd328c36-85c5-4930-9cba-a9fda590aefc",
   "metadata": {},
   "outputs": [
    {
     "name": "stdout",
     "output_type": "stream",
     "text": [
      "name : Om\n",
      "age : 23\n"
     ]
    }
   ],
   "source": [
    "def fun(**kwargs):\n",
    "    for key,value in kwargs.items():\n",
    "        print(key,\":\",value)\n",
    "fun(name=\"Om\",age=23)"
   ]
  },
  {
   "cell_type": "code",
   "execution_count": 16,
   "id": "9d0c3068-4efc-4b56-a719-019376c019f4",
   "metadata": {},
   "outputs": [
    {
     "name": "stdout",
     "output_type": "stream",
     "text": [
      "In this arguments are: ('Om', 23)\n",
      "In this keyword arguments are: {'name': 'Om', 'age': 23}\n"
     ]
    }
   ],
   "source": [
    "def fun(*args,**kwargs):\n",
    "    print(\"In this arguments are:\",args)\n",
    "    print(\"In this keyword arguments are:\",kwargs)\n",
    "fun(\"Om\",23,name=\"Om\",age=23)"
   ]
  },
  {
   "cell_type": "code",
   "execution_count": null,
   "id": "5e1cbb79-15b2-4f01-ba5c-f50c6765ac29",
   "metadata": {},
   "outputs": [],
   "source": []
  }
 ],
 "metadata": {
  "kernelspec": {
   "display_name": "Python 3 (ipykernel)",
   "language": "python",
   "name": "python3"
  },
  "language_info": {
   "codemirror_mode": {
    "name": "ipython",
    "version": 3
   },
   "file_extension": ".py",
   "mimetype": "text/x-python",
   "name": "python",
   "nbconvert_exporter": "python",
   "pygments_lexer": "ipython3",
   "version": "3.12.6"
  }
 },
 "nbformat": 4,
 "nbformat_minor": 5
}
