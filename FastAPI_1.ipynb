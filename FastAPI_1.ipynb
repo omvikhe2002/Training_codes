{
 "cells": [
  {
   "cell_type": "code",
   "execution_count": 7,
   "id": "73d6499a-147b-4909-aadc-09ae7af35359",
   "metadata": {},
   "outputs": [
    {
     "name": "stdout",
     "output_type": "stream",
     "text": [
      "Om Vikhe\n"
     ]
    }
   ],
   "source": [
    "def name(first_name=\"om\",last_name=\"vikhe\"):\n",
    "    full=first_name.title()+\" \"+last_name.title()\n",
    "    return full\n",
    "\n",
    "print(name(\"om\",\"vikhe\"))"
   ]
  },
  {
   "cell_type": "code",
   "execution_count": 15,
   "id": "a045214f-2829-4bc6-a23f-5d25479b62b5",
   "metadata": {},
   "outputs": [
    {
     "name": "stdout",
     "output_type": "stream",
     "text": [
      "om is this old: 23\n"
     ]
    }
   ],
   "source": [
    "def get_name_with_age(name: str, age: int):\n",
    "    name_with_age = name + \" is this old: \" + str(age)\n",
    "    return name_with_age\n",
    "\n",
    "print(get_name_with_age(\"om\",23))"
   ]
  },
  {
   "cell_type": "code",
   "execution_count": 17,
   "id": "9e1a7424-28ea-48f1-8e10-2190dfe6087c",
   "metadata": {},
   "outputs": [
    {
     "data": {
      "text/plain": [
       "('OM', 23, 22.5, True, True, 0.004)"
      ]
     },
     "execution_count": 17,
     "metadata": {},
     "output_type": "execute_result"
    }
   ],
   "source": [
    "def get_items(item_a: str, item_b: int, item_c: float, item_d: bool, item_e: bytes):\n",
    "    return item_a, item_b, item_c, item_d, item_d, item_e\n",
    "\n",
    "get_items(\"OM\",23,22.5,True,0.004)"
   ]
  },
  {
   "cell_type": "code",
   "execution_count": 21,
   "id": "fb8003d2-1df0-4897-b27b-1a58a9050ea5",
   "metadata": {},
   "outputs": [
    {
     "name": "stdout",
     "output_type": "stream",
     "text": [
      "om\n",
      "vikhe\n",
      "23\n",
      "python\n"
     ]
    }
   ],
   "source": [
    "def pro(items:list[str]):\n",
    "    for item in items:\n",
    "        print(item)\n",
    "\n",
    "pro([\"om\",\"vikhe\",\"23\",\"python\"])"
   ]
  },
  {
   "cell_type": "code",
   "execution_count": 31,
   "id": "1e38a497-2197-4df8-ac20-da62bb0d6f62",
   "metadata": {},
   "outputs": [
    {
     "data": {
      "text/plain": [
       "([23, 'om', 36, 'harsh', 34, 32, 33, 35], [0.1, 2.2, 3.4])"
      ]
     },
     "execution_count": 31,
     "metadata": {},
     "output_type": "execute_result"
    }
   ],
   "source": [
    "def process_items(items_t: tuple[int, int, str], items_s: set[bytes]):\n",
    "    return items_t, items_s\n",
    "\n",
    "process_items([23,\"om\",36,\"harsh\",34,32,33,35],[0.1,2.2,3.4])"
   ]
  },
  {
   "cell_type": "code",
   "execution_count": 40,
   "id": "803d1484-4d72-4032-8b12-c07556d9ff69",
   "metadata": {},
   "outputs": [
    {
     "name": "stdout",
     "output_type": "stream",
     "text": [
      "Apple\n",
      "1.0\n",
      "banana\n",
      "1.5\n"
     ]
    }
   ],
   "source": [
    "def process_items(prices: dict[str, float]):\n",
    "    for item_name, item_price in prices.items():\n",
    "        print(item_name)\n",
    "        print(item_price)\n",
    "\n",
    "prices={\"Apple\":1.0,\"banana\":1.5}\n",
    "process_items(prices)\n"
   ]
  },
  {
   "cell_type": "markdown",
   "id": "e4d8bd18-719c-4c2d-8c94-ea5ab24b2a73",
   "metadata": {},
   "source": [
    "UNION ( | )"
   ]
  },
  {
   "cell_type": "code",
   "execution_count": 49,
   "id": "220f8b16-d8ba-4522-8158-eea2a15228b6",
   "metadata": {},
   "outputs": [
    {
     "name": "stdout",
     "output_type": "stream",
     "text": [
      "om\n"
     ]
    }
   ],
   "source": [
    "def process_item(item: int | str):\n",
    "    print(item)\n",
    "\n",
    "process_item(\"om\")"
   ]
  },
  {
   "cell_type": "markdown",
   "id": "e2d0c0e5-3597-4f4d-8850-ffe441633965",
   "metadata": {},
   "source": [
    "The above code will produce only one output that will be 22 because in function only 1 parameter is given which is item"
   ]
  },
  {
   "cell_type": "code",
   "execution_count": 52,
   "id": "65a9f9f1-e2c7-4832-97d3-39a337abbeea",
   "metadata": {},
   "outputs": [
    {
     "name": "stdout",
     "output_type": "stream",
     "text": [
      "Hello Stranger\n"
     ]
    }
   ],
   "source": [
    "from typing import Optional\n",
    "\n",
    "def hi(name:Optional[str]=None):\n",
    "    if name is not None:\n",
    "        print(\"HEY\",name)\n",
    "    else:\n",
    "        print(\"Hello Stranger\")\n",
    "\n",
    "hi()"
   ]
  },
  {
   "cell_type": "code",
   "execution_count": 53,
   "id": "cb8f4e35-04e3-4a9b-bb26-add474190ee8",
   "metadata": {},
   "outputs": [
    {
     "name": "stdout",
     "output_type": "stream",
     "text": [
      "HEY om\n"
     ]
    }
   ],
   "source": [
    "hi(\"om\")"
   ]
  },
  {
   "cell_type": "code",
   "execution_count": 56,
   "id": "0933379c-7b47-487d-8aed-3dfd81e36c21",
   "metadata": {},
   "outputs": [
    {
     "name": "stdout",
     "output_type": "stream",
     "text": [
      "Hi stranger\n"
     ]
    }
   ],
   "source": [
    "def hi(name:str| None=None):\n",
    "    if name is not None:\n",
    "        print(\"Hi\",name)\n",
    "    else:\n",
    "        print(\"Hi stranger\")\n",
    "\n",
    "hi()"
   ]
  },
  {
   "cell_type": "code",
   "execution_count": 57,
   "id": "544091f8-c0aa-4a02-bf80-b9db0fea859d",
   "metadata": {},
   "outputs": [
    {
     "name": "stdout",
     "output_type": "stream",
     "text": [
      "Hi Om\n"
     ]
    }
   ],
   "source": [
    "hi(\"Om\")"
   ]
  },
  {
   "cell_type": "code",
   "execution_count": 60,
   "id": "625135c6-f89f-4fe4-ae8d-1f1d248c2d88",
   "metadata": {},
   "outputs": [
    {
     "name": "stdout",
     "output_type": "stream",
     "text": [
      "Hi Om\n"
     ]
    }
   ],
   "source": [
    "def hi(name:str|None):\n",
    "    print(\"Hi\",name)\n",
    "\n",
    "hi(\"Om\")"
   ]
  },
  {
   "cell_type": "markdown",
   "id": "66f55608-4251-463c-b08f-19d664bff4c2",
   "metadata": {},
   "source": [
    "CLASSES AND TYPES"
   ]
  },
  {
   "cell_type": "code",
   "execution_count": 66,
   "id": "28adff35-05ff-4548-a19a-5d7633dde100",
   "metadata": {},
   "outputs": [
    {
     "name": "stdout",
     "output_type": "stream",
     "text": [
      "Om\n"
     ]
    }
   ],
   "source": [
    "class person:\n",
    "    def __init__(self,name:str):\n",
    "        self.name=name\n",
    "\n",
    "def person_name(one_person:person):\n",
    "    return one_person.name\n",
    "\n",
    "person1=person(\"Om\")\n",
    "name=person_name(person1)\n",
    "print(name)"
   ]
  },
  {
   "cell_type": "markdown",
   "id": "64d6736e-22e2-433e-87ca-0870a1a5f260",
   "metadata": {},
   "source": [
    "PANDANTIC  MODELS"
   ]
  },
  {
   "cell_type": "code",
   "execution_count": 73,
   "id": "a452a8cb-0e7e-4f2c-8ecc-7e2acb8ce808",
   "metadata": {},
   "outputs": [
    {
     "name": "stdout",
     "output_type": "stream",
     "text": [
      "id=123 name='Om Vikhe' gmail=datetime.datetime(2017, 6, 1, 12, 22) friends=[1, 2, 3]\n",
      "123\n"
     ]
    }
   ],
   "source": [
    "from datetime import datetime\n",
    "\n",
    "from pydantic import BaseModel\n",
    "\n",
    "class user(BaseModel):\n",
    "    id:int\n",
    "    name:str=\"Om Vikhe\"\n",
    "    gmail:datetime | None=None\n",
    "    friends:list[int]=[]\n",
    "\n",
    "external_data = {\n",
    "    \"id\": \"123\",\n",
    "    \"gmail\": \"2017-06-01 12:22\",\n",
    "    \"friends\": [1, \"2\", b\"3\"],\n",
    "}\n",
    "\n",
    "use=user(**external_data)\n",
    "print(use)\n",
    "print(use.id)"
   ]
  },
  {
   "cell_type": "code",
   "execution_count": null,
   "id": "ca2280e7-404b-458d-b02c-33613369bb99",
   "metadata": {},
   "outputs": [],
   "source": []
  },
  {
   "cell_type": "code",
   "execution_count": null,
   "id": "ccaccf84-2769-45ee-89af-60c54e82c7e5",
   "metadata": {},
   "outputs": [],
   "source": []
  },
  {
   "cell_type": "code",
   "execution_count": null,
   "id": "2b5ec60d-f3ba-45fb-9d04-56c5df335f8d",
   "metadata": {},
   "outputs": [],
   "source": []
  }
 ],
 "metadata": {
  "kernelspec": {
   "display_name": "Python 3 (ipykernel)",
   "language": "python",
   "name": "python3"
  },
  "language_info": {
   "codemirror_mode": {
    "name": "ipython",
    "version": 3
   },
   "file_extension": ".py",
   "mimetype": "text/x-python",
   "name": "python",
   "nbconvert_exporter": "python",
   "pygments_lexer": "ipython3",
   "version": "3.12.6"
  }
 },
 "nbformat": 4,
 "nbformat_minor": 5
}
