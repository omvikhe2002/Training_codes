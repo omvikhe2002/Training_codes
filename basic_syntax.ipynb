{
 "cells": [
  {
   "cell_type": "markdown",
   "id": "d189f978-c802-4702-b014-860e3248ecaa",
   "metadata": {},
   "source": [
    "    1) Variables"
   ]
  },
  {
   "cell_type": "code",
   "execution_count": 2,
   "id": "17db7569-7ee2-4306-8578-d152bfdf90d7",
   "metadata": {},
   "outputs": [],
   "source": [
    "n = 10            \n",
    "name = \"Om\"       \n",
    "om = True    \n",
    "height = 5.9    "
   ]
  },
  {
   "cell_type": "markdown",
   "id": "7cd68df6-c70f-41f8-b8ea-af118311790f",
   "metadata": {},
   "source": [
    "2) Strings"
   ]
  },
  {
   "cell_type": "code",
   "execution_count": 3,
   "id": "52f676ff-3d64-45cd-9b97-821d06725b7a",
   "metadata": {},
   "outputs": [],
   "source": [
    "greeting = \"Hello World!\"\n",
    "name = \"Om\""
   ]
  },
  {
   "cell_type": "code",
   "execution_count": 4,
   "id": "d8d5fc1c-35b8-4290-8513-ed664ebabd75",
   "metadata": {},
   "outputs": [
    {
     "name": "stdout",
     "output_type": "stream",
     "text": [
      "Hello World! Om\n"
     ]
    }
   ],
   "source": [
    "full_greeting = greeting + \" \" + name\n",
    "print(full_greeting)"
   ]
  },
  {
   "cell_type": "code",
   "execution_count": 6,
   "id": "63224de5-904d-4f68-ac52-4b2a8eef973f",
   "metadata": {},
   "outputs": [
    {
     "name": "stdout",
     "output_type": "stream",
     "text": [
      "My name is Om and I am 23 years old.\n"
     ]
    }
   ],
   "source": [
    "age = 23\n",
    "message = f\"My name is {name} and I am {age} years old.\"\n",
    "print(message)"
   ]
  },
  {
   "cell_type": "markdown",
   "id": "327a3cd8-0abf-49d8-8ada-8dfa9a355de9",
   "metadata": {},
   "source": [
    "3) Lists"
   ]
  },
  {
   "cell_type": "code",
   "execution_count": null,
   "id": "d2da79ba-5333-4da5-b77e-fc02dc9f9cdd",
   "metadata": {},
   "outputs": [],
   "source": [
    "fruits = [\"apple\", \"banana\", \"cherry\", \"orange\"]"
   ]
  },
  {
   "cell_type": "code",
   "execution_count": 8,
   "id": "af97f030-a449-4d3d-a69c-610ae5d72fcf",
   "metadata": {},
   "outputs": [
    {
     "name": "stdout",
     "output_type": "stream",
     "text": [
      "apple\n"
     ]
    }
   ],
   "source": [
    "print(fruits[0])"
   ]
  },
  {
   "cell_type": "code",
   "execution_count": 9,
   "id": "1f3a8dce-af54-47c8-86ef-cb48f5d798c1",
   "metadata": {},
   "outputs": [],
   "source": [
    "fruits.append(\"grape\")"
   ]
  },
  {
   "cell_type": "code",
   "execution_count": 10,
   "id": "afba5768-f6bc-403e-8bd7-792cf5fac427",
   "metadata": {},
   "outputs": [],
   "source": [
    "fruits.remove(\"banana\")"
   ]
  },
  {
   "cell_type": "code",
   "execution_count": 11,
   "id": "0b173272-bd92-4e99-9848-20c72f7ce2e1",
   "metadata": {},
   "outputs": [
    {
     "name": "stdout",
     "output_type": "stream",
     "text": [
      "['cherry', 'orange']\n"
     ]
    }
   ],
   "source": [
    "print(fruits[1:3])"
   ]
  },
  {
   "cell_type": "markdown",
   "id": "71f3cc95-545c-43fd-a47d-bdc03b92b92a",
   "metadata": {},
   "source": [
    "4) Tupples"
   ]
  },
  {
   "cell_type": "code",
   "execution_count": 12,
   "id": "38d9b945-468f-43a2-908e-ff7aa61cecc9",
   "metadata": {},
   "outputs": [],
   "source": [
    "coordinates = (10, 20)"
   ]
  },
  {
   "cell_type": "code",
   "execution_count": 13,
   "id": "3aba9402-4c8b-46c7-8ee7-75d11b966ca5",
   "metadata": {},
   "outputs": [
    {
     "name": "stdout",
     "output_type": "stream",
     "text": [
      "10\n"
     ]
    }
   ],
   "source": [
    "print(coordinates[0])"
   ]
  },
  {
   "cell_type": "markdown",
   "id": "ccd0bb3b-7cc4-47dd-a38b-154a8fbd9822",
   "metadata": {},
   "source": [
    "5. Sets"
   ]
  },
  {
   "cell_type": "code",
   "execution_count": 14,
   "id": "f88ef1bd-9716-4f9b-aac2-9457c340ea01",
   "metadata": {},
   "outputs": [],
   "source": [
    "colors = {\"red\", \"green\", \"blue\"}"
   ]
  },
  {
   "cell_type": "code",
   "execution_count": 15,
   "id": "d003899f-c87e-4004-92c1-7eb51f0412b7",
   "metadata": {},
   "outputs": [],
   "source": [
    "colors.add(\"yellow\")"
   ]
  },
  {
   "cell_type": "code",
   "execution_count": 16,
   "id": "407829b2-80eb-438a-8451-e3a7367beccb",
   "metadata": {},
   "outputs": [],
   "source": [
    "colors.remove(\"green\")"
   ]
  },
  {
   "cell_type": "code",
   "execution_count": 17,
   "id": "4c666e20-af05-49ae-8957-be43bb010718",
   "metadata": {},
   "outputs": [
    {
     "name": "stdout",
     "output_type": "stream",
     "text": [
      "True\n"
     ]
    }
   ],
   "source": [
    "print(\"blue\" in colors)"
   ]
  },
  {
   "cell_type": "code",
   "execution_count": 19,
   "id": "0498302f-dd0b-4615-b1c4-901aebabe5d1",
   "metadata": {},
   "outputs": [],
   "source": [
    "colors.add(\"red\")"
   ]
  },
  {
   "cell_type": "code",
   "execution_count": 20,
   "id": "fc1e9f55-0caf-43b2-b3c6-98d1cc026f12",
   "metadata": {},
   "outputs": [
    {
     "name": "stdout",
     "output_type": "stream",
     "text": [
      "{'red', 'blue', 'yellow'}\n"
     ]
    }
   ],
   "source": [
    "print(colors)"
   ]
  },
  {
   "cell_type": "markdown",
   "id": "57d1f12a-1924-42ca-b69d-5e1a0074f9ce",
   "metadata": {},
   "source": [
    "6. Dictionary"
   ]
  },
  {
   "cell_type": "code",
   "execution_count": 23,
   "id": "c73a4bb7-3603-4ec9-b3ca-7f2f4af75d01",
   "metadata": {},
   "outputs": [],
   "source": [
    "person = {\n",
    "    \"name\": \"Om\",\n",
    "    \"age\": 23,\n",
    "    \"city\": \"Loni\"\n",
    "}"
   ]
  },
  {
   "cell_type": "code",
   "execution_count": 24,
   "id": "2460892a-c322-45a8-873e-45ccf64f72e6",
   "metadata": {},
   "outputs": [
    {
     "name": "stdout",
     "output_type": "stream",
     "text": [
      "Om\n"
     ]
    }
   ],
   "source": [
    "print(person[\"name\"])"
   ]
  },
  {
   "cell_type": "code",
   "execution_count": 25,
   "id": "a15cbc34-d050-4cf6-98eb-e67ef06a1716",
   "metadata": {},
   "outputs": [],
   "source": [
    "person[\"job\"] = \"Engineer\""
   ]
  },
  {
   "cell_type": "code",
   "execution_count": 26,
   "id": "fd52e3ca-945b-46d2-861e-adc4f3e432bd",
   "metadata": {},
   "outputs": [],
   "source": [
    "person[\"age\"] = 22"
   ]
  },
  {
   "cell_type": "code",
   "execution_count": 27,
   "id": "b427b108-0538-448a-a6e4-265c369aa824",
   "metadata": {},
   "outputs": [],
   "source": [
    "del person[\"city\"]"
   ]
  },
  {
   "cell_type": "code",
   "execution_count": 28,
   "id": "c8cd1be5-9a01-418f-9031-df60768a8ca2",
   "metadata": {},
   "outputs": [
    {
     "name": "stdout",
     "output_type": "stream",
     "text": [
      "name Om\n",
      "age 22\n",
      "job Engineer\n"
     ]
    }
   ],
   "source": [
    "for key, value in person.items():\n",
    "    print(key, value)"
   ]
  },
  {
   "cell_type": "code",
   "execution_count": null,
   "id": "4d08a320-4275-4a4e-8e24-67afa008bff3",
   "metadata": {},
   "outputs": [],
   "source": []
  }
 ],
 "metadata": {
  "kernelspec": {
   "display_name": "Python 3 (ipykernel)",
   "language": "python",
   "name": "python3"
  },
  "language_info": {
   "codemirror_mode": {
    "name": "ipython",
    "version": 3
   },
   "file_extension": ".py",
   "mimetype": "text/x-python",
   "name": "python",
   "nbconvert_exporter": "python",
   "pygments_lexer": "ipython3",
   "version": "3.12.6"
  }
 },
 "nbformat": 4,
 "nbformat_minor": 5
}
