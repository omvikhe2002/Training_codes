{
 "cells": [
  {
   "cell_type": "markdown",
   "id": "ae5cedfe-0493-4981-b861-7002c96bffd8",
   "metadata": {},
   "source": [
    "if else statements"
   ]
  },
  {
   "cell_type": "code",
   "execution_count": 1,
   "id": "131b5549-f6a8-4165-9bdb-771153822505",
   "metadata": {},
   "outputs": [
    {
     "name": "stdout",
     "output_type": "stream",
     "text": [
      "x is greater than 5\n"
     ]
    }
   ],
   "source": [
    "x = 10\n",
    "if x > 5:\n",
    "    print(\"x is greater than 5\")\n",
    "else:\n",
    "    print(\"x is less than or equal to 5\")"
   ]
  },
  {
   "cell_type": "markdown",
   "id": "57826553-3a17-46a9-a501-c28178133e77",
   "metadata": {},
   "source": [
    "For Loop"
   ]
  },
  {
   "cell_type": "code",
   "execution_count": 2,
   "id": "adb5538c-5cc5-498f-9d6d-461f2f7a84cb",
   "metadata": {},
   "outputs": [
    {
     "name": "stdout",
     "output_type": "stream",
     "text": [
      "i is: 1\n",
      "i is: 2\n",
      "i is: 3\n",
      "i is: 4\n",
      "i is: 5\n"
     ]
    }
   ],
   "source": [
    "for i in range(1, 6):\n",
    "    print(\"i is:\",i)"
   ]
  },
  {
   "cell_type": "markdown",
   "id": "a4e8a5ba-9b90-4739-bd46-78d0a1849457",
   "metadata": {},
   "source": [
    "While Loop"
   ]
  },
  {
   "cell_type": "code",
   "execution_count": 3,
   "id": "946a53fa-2c32-481c-b1cd-8dce759133b6",
   "metadata": {},
   "outputs": [
    {
     "name": "stdout",
     "output_type": "stream",
     "text": [
      "Counter is: 1\n",
      "Counter is: 2\n",
      "Counter is: 3\n",
      "Counter is: 4\n",
      "Counter is: 5\n"
     ]
    }
   ],
   "source": [
    "counter = 1\n",
    "while counter <= 5:\n",
    "    print(f\"Counter is: {counter}\")\n",
    "    counter += 1 "
   ]
  },
  {
   "cell_type": "markdown",
   "id": "240a69f7-fd14-4711-9ee1-bb64d7b989ea",
   "metadata": {},
   "source": [
    "Break"
   ]
  },
  {
   "cell_type": "code",
   "execution_count": 4,
   "id": "a227ecba-a252-4e10-bb2a-698c5fa7c875",
   "metadata": {},
   "outputs": [
    {
     "name": "stdout",
     "output_type": "stream",
     "text": [
      "1\n",
      "2\n",
      "3\n",
      "4\n",
      "5\n",
      "Breaking the loop at i = 6\n"
     ]
    }
   ],
   "source": [
    "for i in range(1, 10):\n",
    "    if i == 6:\n",
    "        print(\"Breaking the loop at i = 6\")\n",
    "        break\n",
    "    print(i)"
   ]
  },
  {
   "cell_type": "markdown",
   "id": "88f44ca8-ebfa-4cd5-a474-aebeb5b9d4ab",
   "metadata": {},
   "source": [
    "Continue"
   ]
  },
  {
   "cell_type": "code",
   "execution_count": 5,
   "id": "07ca27f5-747b-4b5c-b88c-61d8b9347564",
   "metadata": {},
   "outputs": [
    {
     "name": "stdout",
     "output_type": "stream",
     "text": [
      "1\n",
      "2\n",
      "3\n",
      "4\n",
      "5\n",
      "Skipping i = 6\n",
      "7\n",
      "8\n",
      "9\n"
     ]
    }
   ],
   "source": [
    "for i in range(1, 10):\n",
    "    if i == 6:\n",
    "        print(\"Skipping i = 6\")\n",
    "        continue \n",
    "    print(i)"
   ]
  },
  {
   "cell_type": "markdown",
   "id": "74fa0f34-ecae-4afc-bbeb-a4000fa59d30",
   "metadata": {},
   "source": [
    "If-Else with Loops, Break, and Continue"
   ]
  },
  {
   "cell_type": "code",
   "execution_count": 6,
   "id": "690556a4-52ac-4646-aeba-66c1d020bb8a",
   "metadata": {},
   "outputs": [
    {
     "name": "stdout",
     "output_type": "stream",
     "text": [
      "Current number: 1\n",
      "Current number: 2\n",
      "Skipping 3...\n",
      "Current number: 4\n",
      "Current number: 5\n",
      "Current number: 6\n",
      "Current number: 7\n",
      "Breaking the loop at i = 8\n"
     ]
    }
   ],
   "source": [
    "for i in range(1, 11):\n",
    "    if i == 3:\n",
    "        print(\"Skipping 3...\")\n",
    "        continue \n",
    "    elif i == 8:\n",
    "        print(\"Breaking the loop at i = 8\")\n",
    "        break  \n",
    "    else:\n",
    "        print(\"Current number:\",i)\n"
   ]
  },
  {
   "cell_type": "code",
   "execution_count": null,
   "id": "64b6b8de-a86d-4e0a-838d-58ea2455c93a",
   "metadata": {},
   "outputs": [],
   "source": []
  }
 ],
 "metadata": {
  "kernelspec": {
   "display_name": "Python 3 (ipykernel)",
   "language": "python",
   "name": "python3"
  },
  "language_info": {
   "codemirror_mode": {
    "name": "ipython",
    "version": 3
   },
   "file_extension": ".py",
   "mimetype": "text/x-python",
   "name": "python",
   "nbconvert_exporter": "python",
   "pygments_lexer": "ipython3",
   "version": "3.12.6"
  }
 },
 "nbformat": 4,
 "nbformat_minor": 5
}
